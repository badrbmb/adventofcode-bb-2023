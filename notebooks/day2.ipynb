{
 "cells": [
  {
   "cell_type": "code",
   "execution_count": 1,
   "metadata": {},
   "outputs": [],
   "source": [
    "import re"
   ]
  },
  {
   "cell_type": "code",
   "execution_count": 80,
   "metadata": {},
   "outputs": [],
   "source": [
    "class ColorCount:\n",
    "    def __init__(self, color: \"str\", count: int):\n",
    "        self.color = color\n",
    "        self.count = count\n",
    "        \n",
    "    def __str__(self):\n",
    "        return f\"{self.count} {self.color}\"\n",
    "    \n",
    "    def __repr__(self):\n",
    "        return f\"ColorCount(color={self.color}, count={self.count})\"\n",
    "    \n",
    "    @classmethod\n",
    "    def from_str(cls, value:str) -> 'ColorCount':\n",
    "        match = re.match(r\"(\\d+)\\s+(red|green|blue)\", value)\n",
    "        if match:\n",
    "            count, color = match.groups()\n",
    "            return cls(count=int(count), color=color)\n",
    "        else:\n",
    "            raise ValueError(f\"Failed parsing {value}\")\n",
    "\n",
    "class GameSet:\n",
    "    def __init__(self, color_counts: list[ColorCount]):\n",
    "        self.color_counts = color_counts\n",
    "        \n",
    "    def __repr__(self):\n",
    "        return f\"GameSet(color_counts={self.color_counts})\"\n",
    "        \n",
    "    def __str__(self):\n",
    "        return \", \".join([str(t) for t in self.color_counts])\n",
    "    \n",
    "    def get_color_count(self, color: str) -> int:\n",
    "        m = [t for t in self.color_counts if t.color == color]\n",
    "        if len(m) != 1:\n",
    "            return 0\n",
    "        else:\n",
    "            return m[0].count\n",
    "        \n",
    "    @classmethod\n",
    "    def from_str(cls, value: str) -> \"GameSet\":\n",
    "        color_counts_strs = value.split(\", \")\n",
    "        return cls(color_counts=[ColorCount.from_str(t) for t in color_counts_strs])\n",
    "\n",
    "class Game:\n",
    "    def __init__(self, game_id: int, sets: list[GameSet]):\n",
    "        self.game_id = game_id\n",
    "        self.sets = sets\n",
    "        \n",
    "    def __str__(self):\n",
    "        sets_str = \"; \".join([str(t) for t in self.sets])\n",
    "        return f\"Game {self.game_id}: {sets_str}\"\n",
    "    \n",
    "    def __repr__(self):\n",
    "        return f\"Game(game_id={self.game_id}, sets={self.sets})\"\n",
    "        \n",
    "    @classmethod\n",
    "    def from_str(cls, value:str) -> \"Game\":\n",
    "        game_id_str, sets_str = value.split(':')\n",
    "        \n",
    "        game_id = int(game_id_str.replace(\"Game\", \"\").strip())\n",
    "        \n",
    "        set_strs = [t.strip() for t in sets_str.split(';')]\n",
    "        game_sets = [GameSet.from_str(value=t) for t in set_strs]\n",
    "        return cls(game_id=game_id, sets=game_sets)\n",
    "    \n",
    "    @property\n",
    "    def min_set(self) -> GameSet:\n",
    "        \"\"\"Derive the game set with the minimum number of ball required to play it\"\"\"\n",
    "        color_counts = []\n",
    "        for color in [\"red\", \"green\", \"blue\"]:\n",
    "            counts = [t.get_color_count(color) for t in self.sets]\n",
    "            if len(counts) > 0:\n",
    "                min_req_count = max(counts)\n",
    "            else:\n",
    "                min_req_count = 0\n",
    "            color_counts.append(ColorCount(color=color, count=min_req_count))\n",
    "        return GameSet(color_counts)\n",
    "    \n",
    "    @property\n",
    "    def power(self) -> int:\n",
    "        \"\"\"The power of a set of cubes is equal to the numbers of red, green, and blue cubes multiplied together\"\"\"\n",
    "        out = 1\n",
    "        for color in [\"red\", \"green\", \"blue\"]:\n",
    "            out *= self.min_set.get_color_count(color)\n",
    "        return out\n",
    "            \n",
    "    \n",
    "class GameCollection:\n",
    "    def __init__(self, games: list[Game]):\n",
    "        self.games = games\n",
    "        \n",
    "    @classmethod\n",
    "    def from_str(cls, value: str) -> \"GameCollection\":\n",
    "        games_strs = value.strip().split('\\n')\n",
    "        return cls(games=[Game.from_str(t) for t in games_strs])\n",
    "    \n",
    "    def __str__(self) -> str:\n",
    "        return \"\\n\".join([str(t) for t in self.games])\n",
    "    \n",
    "    def __repr__(self):\n",
    "        return f\"GameCollection(games={self.games})\"\n",
    "    \n",
    "    def get_bad_games_ids(self, target_set: GameSet) -> list[Game]:\n",
    "        bad_games = []\n",
    "        for color_count in target_set.color_counts:\n",
    "            color_ball = color_count.color\n",
    "            count_target = color_count.count\n",
    "            for game in self.games:\n",
    "                if game.game_id in bad_games:\n",
    "                    # print(f\"Game {game.game_id} already disqualified\")\n",
    "                    continue\n",
    "                for game_set in game.sets:\n",
    "                    count_game = game_set.get_color_count(color_ball)\n",
    "                    if count_target < count_game:\n",
    "                        print(f\"Game: {game.game_id} | impossible to have {count_game} {color_ball} balls when target is {count_target}\")\n",
    "                        bad_games.append(game)\n",
    "                        break\n",
    "                    \n",
    "        return bad_games\n",
    "    \n",
    "    def get_solution_part1(self, target_set: GameSet) -> int:\n",
    "        \"\"\"Determine which games would have been possible if the bag had been loaded with only the `target_set`.\n",
    "        What is the sum of the IDs of those games?\"\"\"\n",
    "        # get bad games\n",
    "        bad_games = self.get_bad_games_ids(target_set)\n",
    "        # get good games\n",
    "        good_game_ids = [t.game_id for t in self.games if t not in bad_games]\n",
    "        return sum(good_game_ids)\n",
    "    \n",
    "    def get_solution_part2(self) -> int:\n",
    "        \"\"\"find the minimum set of cubes that must have been present. \n",
    "        What is the sum of the power of these sets?\"\"\"\n",
    "        return sum(t.power for t in self.games)"
   ]
  },
  {
   "cell_type": "code",
   "execution_count": 81,
   "metadata": {},
   "outputs": [],
   "source": [
    "games_str = \"\"\"\n",
    "Game 1: 3 blue, 4 red; 1 red, 2 green, 6 blue; 2 green\n",
    "Game 2: 1 blue, 2 green; 3 green, 4 blue, 1 red; 1 green, 1 blue\n",
    "Game 3: 8 green, 6 blue, 20 red; 5 blue, 4 red, 13 green; 5 green, 1 red\n",
    "Game 4: 1 green, 3 red, 6 blue; 3 green, 6 red; 3 green, 15 blue, 14 red\n",
    "Game 5: 6 red, 1 blue, 3 green; 2 blue, 1 red, 2 green\n",
    "\"\"\"\n",
    "\n",
    "game_collection = GameCollection.from_str(games_str)"
   ]
  },
  {
   "cell_type": "code",
   "execution_count": 82,
   "metadata": {},
   "outputs": [
    {
     "name": "stdout",
     "output_type": "stream",
     "text": [
      "6 red, 3 green, 2 blue\n",
      "36\n"
     ]
    },
    {
     "data": {
      "text/plain": [
       "(None, None)"
      ]
     },
     "execution_count": 82,
     "metadata": {},
     "output_type": "execute_result"
    }
   ],
   "source": [
    "game = game_collection.games[4]\n",
    "print(game.min_set), print(game.power)"
   ]
  },
  {
   "cell_type": "code",
   "execution_count": 83,
   "metadata": {},
   "outputs": [],
   "source": [
    "target_str = \"12 red, 13 green, 14 blue\"\n",
    "target_set = GameSet.from_str(target_str)"
   ]
  },
  {
   "cell_type": "code",
   "execution_count": 85,
   "metadata": {},
   "outputs": [
    {
     "name": "stdout",
     "output_type": "stream",
     "text": [
      "Game: 3 | impossible to have 20 red balls when target is 12\n",
      "Game: 4 | impossible to have 14 red balls when target is 12\n",
      "Game: 4 | impossible to have 15 blue balls when target is 14\n"
     ]
    },
    {
     "data": {
      "text/plain": [
       "8"
      ]
     },
     "execution_count": 85,
     "metadata": {},
     "output_type": "execute_result"
    }
   ],
   "source": [
    "game_collection.get_solution_part1(target_set)"
   ]
  },
  {
   "cell_type": "code",
   "execution_count": 86,
   "metadata": {},
   "outputs": [
    {
     "data": {
      "text/plain": [
       "2286"
      ]
     },
     "execution_count": 86,
     "metadata": {},
     "output_type": "execute_result"
    }
   ],
   "source": [
    "game_collection.get_solution_part2()"
   ]
  },
  {
   "cell_type": "code",
   "execution_count": 87,
   "metadata": {},
   "outputs": [],
   "source": [
    "game_str = \"\"\"\n",
    "Game 1: 2 blue, 4 green; 7 blue, 1 red, 14 green; 5 blue, 13 green, 1 red; 1 red, 7 blue, 11 green\n",
    "Game 2: 6 blue, 3 green; 4 red, 1 green, 7 blue; 2 green\n",
    "Game 3: 4 blue, 3 red; 2 blue, 4 red, 7 green; 1 blue, 6 red, 7 green; 5 green, 10 blue; 9 green, 1 blue, 6 red; 8 blue, 1 red, 12 green\n",
    "Game 4: 15 blue, 4 green, 5 red; 2 red, 2 green, 5 blue; 3 green, 13 blue; 17 blue, 1 green, 5 red\n",
    "Game 5: 11 green, 4 red, 3 blue; 8 blue, 6 green; 8 green, 2 red, 9 blue; 4 red, 16 blue; 8 blue, 10 red, 6 green; 9 blue, 3 red, 10 green\n",
    "Game 6: 4 green, 9 red, 2 blue; 7 red, 2 green, 15 blue; 13 red, 2 green, 6 blue; 5 green, 7 blue, 6 red; 19 red, 15 blue, 4 green\n",
    "Game 7: 12 blue, 5 red; 5 green, 6 blue; 5 red, 15 blue; 5 blue, 5 red, 5 green; 1 green, 11 blue, 2 red\n",
    "Game 8: 6 red, 11 green; 5 red, 2 blue, 7 green; 7 red, 6 green\n",
    "Game 9: 5 red, 1 blue, 11 green; 4 green, 1 blue; 8 green, 2 red; 1 green, 2 red, 2 blue; 3 green, 2 red\n",
    "Game 10: 7 blue, 4 red, 11 green; 13 green, 1 red, 1 blue; 7 blue, 6 green\n",
    "Game 11: 4 blue, 7 red, 2 green; 1 green, 14 red, 3 blue; 2 green, 5 red, 3 blue\n",
    "Game 12: 6 green, 6 blue, 1 red; 1 green, 3 red, 2 blue; 2 blue, 6 red, 7 green\n",
    "Game 13: 6 red, 10 green, 13 blue; 3 red, 12 green, 9 blue; 11 blue, 1 green; 4 red, 3 blue, 13 green; 12 green, 10 blue, 6 red; 13 blue, 3 green, 3 red\n",
    "Game 14: 8 green, 1 blue, 17 red; 7 green, 11 blue, 19 red; 19 red, 9 blue, 2 green; 8 green, 20 red, 12 blue; 16 red, 3 green, 11 blue\n",
    "Game 15: 3 red, 1 green, 5 blue; 9 blue, 4 green; 6 blue, 5 green, 9 red\n",
    "Game 16: 13 blue, 1 red; 2 blue, 2 green; 1 green; 10 blue, 8 red; 4 red, 3 green, 9 blue\n",
    "Game 17: 10 blue, 2 red; 3 green, 4 red; 6 blue, 1 red, 6 green; 5 green, 7 blue, 5 red\n",
    "Game 18: 3 red, 1 green; 2 red, 5 blue; 5 blue, 2 red\n",
    "Game 19: 7 green, 4 blue, 1 red; 1 green, 4 blue, 4 red; 6 blue, 8 green; 4 green, 2 blue, 1 red; 1 red, 1 blue, 2 green\n",
    "Game 20: 13 green, 1 red, 1 blue; 12 green, 1 blue; 5 green, 1 blue, 2 red; 16 green, 3 red; 2 red, 9 green\n",
    "Game 21: 8 red, 2 green, 2 blue; 5 red, 3 blue; 2 blue, 5 red, 2 green; 7 blue\n",
    "Game 22: 9 red, 12 blue, 7 green; 7 red, 13 blue, 4 green; 9 blue, 13 red, 1 green; 3 blue, 4 red, 5 green\n",
    "Game 23: 7 green, 12 red; 6 red, 7 green, 4 blue; 1 blue, 11 red, 5 green; 4 green, 2 blue, 6 red; 12 green, 6 red, 3 blue\n",
    "Game 24: 11 red, 4 blue; 9 blue, 6 green, 17 red; 8 green, 2 red; 16 blue, 6 red, 2 green\n",
    "Game 25: 7 red, 4 blue; 7 blue, 4 green; 10 blue, 4 red, 2 green; 6 green, 4 blue, 1 red; 10 blue, 2 red, 4 green\n",
    "Game 26: 7 green, 8 red, 6 blue; 5 red, 3 green, 2 blue; 13 blue, 6 green, 5 red; 10 blue, 4 red, 8 green; 2 red, 2 blue, 1 green; 8 blue, 1 green, 4 red\n",
    "Game 27: 7 green, 3 blue, 13 red; 1 green, 17 red, 1 blue; 16 red, 3 blue, 3 green; 5 green, 3 red, 5 blue; 13 red, 4 green, 8 blue; 6 blue, 2 green, 15 red\n",
    "Game 28: 8 blue, 5 red, 18 green; 1 green, 6 red; 7 blue, 18 green, 5 red; 16 green, 3 red, 7 blue; 6 blue, 18 green; 8 blue, 8 green, 7 red\n",
    "Game 29: 4 blue, 1 red; 6 blue, 1 red; 17 blue, 1 green\n",
    "Game 30: 1 red, 2 green, 5 blue; 2 blue, 7 green, 6 red; 11 blue, 4 red, 2 green; 5 green, 6 blue, 4 red; 5 red, 8 blue, 7 green\n",
    "Game 31: 10 green, 9 blue; 5 green, 9 blue, 1 red; 1 red, 8 blue\n",
    "Game 32: 3 red, 5 green; 5 red, 5 blue, 14 green; 2 red, 2 green; 11 green, 3 red, 5 blue\n",
    "Game 33: 7 blue, 10 green, 8 red; 18 blue, 15 green, 4 red; 6 red, 1 green; 18 blue, 8 red, 11 green\n",
    "Game 34: 3 green; 2 red, 5 green; 5 blue, 3 green; 3 blue, 5 green, 1 red\n",
    "Game 35: 1 blue, 5 green, 6 red; 3 green, 2 red, 3 blue; 4 red, 9 blue, 3 green; 1 green, 12 blue, 1 red\n",
    "Game 36: 14 green, 3 blue, 16 red; 1 green, 2 red, 4 blue; 4 blue, 9 green, 18 red; 4 blue, 4 green, 14 red; 4 blue, 11 green\n",
    "Game 37: 7 green, 2 blue, 3 red; 8 green, 9 red, 2 blue; 4 blue, 15 green, 18 red\n",
    "Game 38: 11 red, 1 blue, 6 green; 6 green, 2 blue, 1 red; 6 blue, 17 red, 2 green; 17 red, 9 blue, 3 green; 7 red, 7 blue, 3 green; 3 green, 7 red, 7 blue\n",
    "Game 39: 1 blue, 2 green; 1 blue, 2 green, 7 red; 1 blue, 4 red, 2 green; 1 blue, 12 red\n",
    "Game 40: 1 blue, 4 red, 15 green; 12 green, 1 blue, 15 red; 15 red, 8 green\n",
    "Game 41: 5 blue, 5 green, 1 red; 9 red, 8 green, 9 blue; 10 red, 10 blue, 4 green; 3 blue, 17 red, 3 green; 3 blue, 4 red, 2 green\n",
    "Game 42: 2 blue, 10 red, 17 green; 6 red, 10 green, 10 blue; 3 blue, 6 green, 8 red; 9 green, 2 blue, 8 red; 13 green, 5 blue; 4 red, 18 green, 11 blue\n",
    "Game 43: 8 red, 3 blue, 6 green; 2 red, 8 green, 10 blue; 5 blue, 9 red, 9 green; 1 green, 15 red, 8 blue\n",
    "Game 44: 11 green, 19 red, 14 blue; 1 red, 19 green, 9 blue; 7 green, 8 red, 10 blue; 14 green, 8 blue, 15 red; 7 green, 3 red, 2 blue\n",
    "Game 45: 4 green, 9 blue, 4 red; 7 blue, 13 green, 2 red; 12 green, 10 blue, 10 red\n",
    "Game 46: 10 red, 2 green, 1 blue; 10 red, 10 green, 1 blue; 1 blue, 13 green; 1 blue, 2 green, 10 red; 1 blue, 7 red, 11 green; 10 red, 5 green\n",
    "Game 47: 3 blue, 2 green, 12 red; 5 blue, 7 red; 5 green, 14 red; 12 red, 7 green, 5 blue\n",
    "Game 48: 5 red, 1 blue, 3 green; 7 red, 8 green, 4 blue; 4 blue, 5 green, 17 red; 1 blue, 12 red\n",
    "Game 49: 2 green, 7 red, 1 blue; 11 green, 5 red; 4 red, 1 blue, 1 green; 11 green, 1 blue, 7 red\n",
    "Game 50: 10 red, 3 blue, 6 green; 1 blue, 5 red, 3 green; 6 blue, 11 red, 12 green; 10 green\n",
    "Game 51: 18 blue, 1 green, 1 red; 15 blue; 13 blue, 11 green, 4 red; 8 red, 1 green, 18 blue; 10 green, 7 blue, 8 red\n",
    "Game 52: 13 green, 15 blue; 6 blue, 4 red, 8 green; 6 red, 13 green, 11 blue; 2 red, 7 green, 13 blue; 12 green, 2 blue, 3 red; 6 red, 11 green, 1 blue\n",
    "Game 53: 2 red, 2 green; 3 green, 1 blue, 1 red; 1 blue, 4 green, 7 red; 4 red, 1 blue; 4 red, 5 green, 2 blue\n",
    "Game 54: 8 blue, 2 red, 5 green; 6 green, 2 blue, 3 red; 1 blue, 8 green, 4 red\n",
    "Game 55: 6 green, 6 blue, 3 red; 13 green, 1 red; 2 blue, 1 red, 1 green; 14 green, 1 blue, 1 red; 1 blue, 2 red, 9 green; 9 green, 2 blue, 4 red\n",
    "Game 56: 4 green, 6 blue, 1 red; 5 red, 3 blue; 6 red, 1 blue; 9 green, 5 blue, 7 red\n",
    "Game 57: 5 red, 5 green, 8 blue; 11 red, 3 blue, 8 green; 7 green, 9 blue, 11 red; 3 green, 2 blue, 12 red\n",
    "Game 58: 3 green, 3 red; 4 red, 1 green; 1 red, 6 green; 5 green; 5 red, 1 blue, 3 green; 3 red, 1 blue\n",
    "Game 59: 2 green, 2 blue; 7 red, 18 green; 2 blue, 7 red, 16 green; 7 red, 10 green\n",
    "Game 60: 3 blue, 4 red; 4 blue, 3 red, 3 green; 16 green\n",
    "Game 61: 1 blue, 2 red, 8 green; 9 blue, 4 green, 12 red; 10 green, 2 red; 5 blue, 11 red, 1 green; 10 green, 3 blue, 8 red; 5 red, 2 green\n",
    "Game 62: 15 red, 10 blue, 7 green; 4 blue, 9 red, 4 green; 4 red, 2 blue, 2 green; 11 green, 2 red; 8 blue, 2 green; 2 green, 8 red, 8 blue\n",
    "Game 63: 2 green, 3 blue, 1 red; 7 blue, 5 red; 7 blue\n",
    "Game 64: 3 green, 5 blue, 6 red; 9 green, 4 red; 13 red, 1 blue, 5 green; 4 blue, 13 red, 8 green\n",
    "Game 65: 7 green, 1 blue; 1 red, 14 blue, 4 green; 8 blue, 6 red; 14 green, 4 red\n",
    "Game 66: 6 red, 11 green, 7 blue; 1 blue, 6 red; 13 red, 7 blue, 3 green; 8 red, 6 blue, 15 green; 7 green, 6 blue, 4 red; 4 red, 1 blue, 20 green\n",
    "Game 67: 4 blue, 9 green; 15 red, 16 green, 3 blue; 1 green, 14 red, 3 blue; 3 red, 2 blue, 3 green; 4 green, 3 blue, 12 red\n",
    "Game 68: 5 green, 3 blue, 2 red; 4 green, 8 blue, 11 red; 6 red, 6 blue, 4 green; 8 red, 5 blue, 7 green; 6 blue, 6 green, 11 red; 2 blue, 3 green, 3 red\n",
    "Game 69: 15 blue, 16 green, 5 red; 10 blue, 3 red, 13 green; 4 red, 5 blue, 2 green; 1 red; 11 green, 5 red, 15 blue\n",
    "Game 70: 8 red, 9 blue, 12 green; 3 red, 2 blue, 14 green; 10 blue, 1 red, 18 green; 1 blue, 7 red, 16 green; 3 green, 4 red, 16 blue; 10 green, 6 red\n",
    "Game 71: 12 blue, 7 red, 16 green; 2 red, 9 blue, 15 green; 1 red, 11 blue, 11 green; 15 red, 16 blue, 2 green\n",
    "Game 72: 1 blue, 11 red, 6 green; 1 red, 2 blue, 5 green; 4 green, 2 red; 2 green, 12 red\n",
    "Game 73: 1 blue, 1 red; 2 red, 4 blue, 2 green; 1 blue, 2 green, 10 red; 8 red\n",
    "Game 74: 12 red, 1 green, 4 blue; 1 red, 5 blue, 1 green; 11 green, 16 red, 7 blue; 7 red, 1 blue, 1 green; 12 red, 11 green, 12 blue; 11 green, 6 red\n",
    "Game 75: 12 green, 8 red, 3 blue; 7 red, 10 green; 1 green, 7 blue, 1 red\n",
    "Game 76: 4 green, 1 red, 3 blue; 7 blue, 3 green, 3 red; 4 blue, 2 red, 3 green; 4 blue, 1 green\n",
    "Game 77: 2 green, 12 blue, 10 red; 5 blue, 7 red; 2 red, 6 green; 1 blue, 2 red, 6 green\n",
    "Game 78: 2 green, 4 blue, 4 red; 8 green, 10 red, 10 blue; 5 green, 8 blue, 10 red; 6 green, 2 red\n",
    "Game 79: 3 green, 2 blue, 11 red; 8 red, 11 green, 1 blue; 1 blue, 16 red; 5 red, 7 green, 16 blue; 12 red, 7 green, 9 blue; 4 red, 20 blue, 12 green\n",
    "Game 80: 3 red, 5 green; 2 blue, 4 green; 2 red, 12 green, 4 blue; 10 green, 1 blue, 1 red; 4 blue, 3 red\n",
    "Game 81: 1 blue, 1 green, 1 red; 5 green, 3 red, 1 blue; 1 blue, 6 green; 1 green; 1 red, 5 green, 2 blue; 1 blue, 1 red, 3 green\n",
    "Game 82: 7 green, 10 blue, 3 red; 10 green, 12 red, 12 blue; 18 red, 8 green, 14 blue; 3 red, 3 green, 10 blue; 3 red, 1 blue, 5 green; 1 green, 8 blue\n",
    "Game 83: 9 red, 3 blue; 14 blue, 8 red, 3 green; 14 blue, 5 green, 4 red\n",
    "Game 84: 2 blue, 3 red, 6 green; 11 green, 2 red, 1 blue; 17 green, 3 blue, 3 red; 1 red, 1 blue; 1 red, 2 blue, 19 green\n",
    "Game 85: 3 green, 2 blue, 3 red; 4 red, 5 blue, 8 green; 15 green, 1 red, 9 blue; 12 green, 3 blue, 2 red\n",
    "Game 86: 15 green, 7 red, 10 blue; 2 blue, 2 red, 1 green; 4 red, 1 green, 9 blue; 7 red, 14 blue, 5 green\n",
    "Game 87: 1 green, 3 blue, 1 red; 2 blue, 1 green; 1 blue, 2 green, 1 red\n",
    "Game 88: 2 green, 6 blue, 5 red; 5 blue, 2 red; 3 red, 13 blue; 9 blue, 10 red, 1 green\n",
    "Game 89: 6 green, 10 red, 2 blue; 7 red, 1 blue, 8 green; 4 blue, 3 red, 5 green; 4 green, 4 blue, 10 red\n",
    "Game 90: 8 red, 7 blue; 4 green, 3 red, 1 blue; 5 blue, 2 green\n",
    "Game 91: 15 green, 14 red; 12 red, 16 green, 2 blue; 8 red, 10 green; 1 green, 6 red; 8 green, 12 red\n",
    "Game 92: 4 blue, 4 green, 9 red; 1 blue, 17 green; 1 green; 15 green, 3 blue, 12 red; 11 red, 1 blue, 7 green; 7 blue, 13 red, 8 green\n",
    "Game 93: 10 blue, 12 red; 10 blue, 11 green, 8 red; 1 blue, 11 green, 7 red; 10 blue, 15 red, 5 green; 11 red, 8 green, 9 blue; 10 green, 3 blue\n",
    "Game 94: 1 blue, 2 red; 4 red, 1 green, 5 blue; 3 red, 2 green; 2 green, 2 blue; 1 red, 5 blue, 1 green; 4 blue, 1 red, 2 green\n",
    "Game 95: 1 red, 1 blue, 3 green; 2 green, 6 blue; 1 green, 13 blue, 1 red; 3 green, 15 blue\n",
    "Game 96: 16 blue, 7 green, 5 red; 5 green, 5 blue, 6 red; 3 green, 17 blue, 10 red; 13 blue, 2 red, 1 green\n",
    "Game 97: 12 red; 1 blue, 6 red, 1 green; 9 red, 2 blue, 1 green; 1 green, 2 blue, 1 red; 15 red, 1 blue; 1 blue\n",
    "Game 98: 11 red, 6 blue, 13 green; 4 blue, 2 red, 12 green; 2 blue, 8 green, 10 red\n",
    "Game 99: 2 red, 1 blue; 4 green; 7 green, 1 blue, 1 red; 5 green, 2 red; 1 blue, 2 red, 9 green; 2 green, 3 red\n",
    "Game 100: 7 red, 11 blue; 10 red, 5 blue, 1 green; 7 red, 1 green, 13 blue; 9 red; 9 red, 19 blue; 9 red, 9 blue\n",
    "\"\"\""
   ]
  },
  {
   "cell_type": "code",
   "execution_count": 88,
   "metadata": {},
   "outputs": [],
   "source": [
    "game_collection2 = GameCollection.from_str(game_str)"
   ]
  },
  {
   "cell_type": "code",
   "execution_count": 89,
   "metadata": {},
   "outputs": [
    {
     "name": "stdout",
     "output_type": "stream",
     "text": [
      "Game: 6 | impossible to have 13 red balls when target is 12\n",
      "Game: 11 | impossible to have 14 red balls when target is 12\n",
      "Game: 14 | impossible to have 17 red balls when target is 12\n",
      "Game: 22 | impossible to have 13 red balls when target is 12\n",
      "Game: 24 | impossible to have 17 red balls when target is 12\n",
      "Game: 27 | impossible to have 13 red balls when target is 12\n",
      "Game: 36 | impossible to have 16 red balls when target is 12\n",
      "Game: 37 | impossible to have 18 red balls when target is 12\n",
      "Game: 38 | impossible to have 17 red balls when target is 12\n",
      "Game: 40 | impossible to have 15 red balls when target is 12\n",
      "Game: 41 | impossible to have 17 red balls when target is 12\n",
      "Game: 43 | impossible to have 15 red balls when target is 12\n",
      "Game: 44 | impossible to have 19 red balls when target is 12\n",
      "Game: 47 | impossible to have 14 red balls when target is 12\n",
      "Game: 48 | impossible to have 17 red balls when target is 12\n",
      "Game: 62 | impossible to have 15 red balls when target is 12\n",
      "Game: 64 | impossible to have 13 red balls when target is 12\n",
      "Game: 66 | impossible to have 13 red balls when target is 12\n",
      "Game: 67 | impossible to have 15 red balls when target is 12\n",
      "Game: 71 | impossible to have 15 red balls when target is 12\n",
      "Game: 74 | impossible to have 16 red balls when target is 12\n",
      "Game: 79 | impossible to have 16 red balls when target is 12\n",
      "Game: 82 | impossible to have 18 red balls when target is 12\n",
      "Game: 91 | impossible to have 14 red balls when target is 12\n",
      "Game: 92 | impossible to have 13 red balls when target is 12\n",
      "Game: 93 | impossible to have 15 red balls when target is 12\n",
      "Game: 97 | impossible to have 15 red balls when target is 12\n",
      "Game: 1 | impossible to have 14 green balls when target is 13\n",
      "Game: 20 | impossible to have 16 green balls when target is 13\n",
      "Game: 28 | impossible to have 18 green balls when target is 13\n",
      "Game: 32 | impossible to have 14 green balls when target is 13\n",
      "Game: 33 | impossible to have 15 green balls when target is 13\n",
      "Game: 36 | impossible to have 14 green balls when target is 13\n",
      "Game: 37 | impossible to have 15 green balls when target is 13\n",
      "Game: 40 | impossible to have 15 green balls when target is 13\n",
      "Game: 42 | impossible to have 17 green balls when target is 13\n",
      "Game: 44 | impossible to have 19 green balls when target is 13\n",
      "Game: 55 | impossible to have 14 green balls when target is 13\n",
      "Game: 59 | impossible to have 18 green balls when target is 13\n",
      "Game: 60 | impossible to have 16 green balls when target is 13\n",
      "Game: 65 | impossible to have 14 green balls when target is 13\n",
      "Game: 66 | impossible to have 15 green balls when target is 13\n",
      "Game: 67 | impossible to have 16 green balls when target is 13\n",
      "Game: 69 | impossible to have 16 green balls when target is 13\n",
      "Game: 70 | impossible to have 14 green balls when target is 13\n",
      "Game: 71 | impossible to have 16 green balls when target is 13\n",
      "Game: 84 | impossible to have 17 green balls when target is 13\n",
      "Game: 85 | impossible to have 15 green balls when target is 13\n",
      "Game: 86 | impossible to have 15 green balls when target is 13\n",
      "Game: 91 | impossible to have 15 green balls when target is 13\n",
      "Game: 92 | impossible to have 17 green balls when target is 13\n",
      "Game: 4 | impossible to have 15 blue balls when target is 14\n",
      "Game: 5 | impossible to have 16 blue balls when target is 14\n",
      "Game: 6 | impossible to have 15 blue balls when target is 14\n",
      "Game: 7 | impossible to have 15 blue balls when target is 14\n",
      "Game: 24 | impossible to have 16 blue balls when target is 14\n",
      "Game: 29 | impossible to have 17 blue balls when target is 14\n",
      "Game: 33 | impossible to have 18 blue balls when target is 14\n",
      "Game: 51 | impossible to have 18 blue balls when target is 14\n",
      "Game: 52 | impossible to have 15 blue balls when target is 14\n",
      "Game: 69 | impossible to have 15 blue balls when target is 14\n",
      "Game: 70 | impossible to have 16 blue balls when target is 14\n",
      "Game: 71 | impossible to have 16 blue balls when target is 14\n",
      "Game: 79 | impossible to have 16 blue balls when target is 14\n",
      "Game: 95 | impossible to have 15 blue balls when target is 14\n",
      "Game: 96 | impossible to have 16 blue balls when target is 14\n",
      "Game: 100 | impossible to have 19 blue balls when target is 14\n"
     ]
    },
    {
     "data": {
      "text/plain": [
       "2406"
      ]
     },
     "execution_count": 89,
     "metadata": {},
     "output_type": "execute_result"
    }
   ],
   "source": [
    "game_collection2.get_solution_part1(target_set)"
   ]
  },
  {
   "cell_type": "code",
   "execution_count": 90,
   "metadata": {},
   "outputs": [
    {
     "data": {
      "text/plain": [
       "78375"
      ]
     },
     "execution_count": 90,
     "metadata": {},
     "output_type": "execute_result"
    }
   ],
   "source": [
    "game_collection2.get_solution_part2()"
   ]
  },
  {
   "cell_type": "code",
   "execution_count": null,
   "metadata": {},
   "outputs": [],
   "source": []
  }
 ],
 "metadata": {
  "kernelspec": {
   "display_name": ".venv",
   "language": "python",
   "name": "python3"
  },
  "language_info": {
   "codemirror_mode": {
    "name": "ipython",
    "version": 3
   },
   "file_extension": ".py",
   "mimetype": "text/x-python",
   "name": "python",
   "nbconvert_exporter": "python",
   "pygments_lexer": "ipython3",
   "version": "3.12.0"
  }
 },
 "nbformat": 4,
 "nbformat_minor": 2
}
