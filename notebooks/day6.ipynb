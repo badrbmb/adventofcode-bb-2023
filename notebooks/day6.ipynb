{
 "cells": [
  {
   "cell_type": "code",
   "execution_count": 8,
   "metadata": {},
   "outputs": [],
   "source": [
    "import re"
   ]
  },
  {
   "cell_type": "code",
   "execution_count": 2,
   "metadata": {},
   "outputs": [],
   "source": [
    "puzzle_str = \"\"\"\n",
    "Time:      7  15   30\n",
    "Distance:  9  40  200\n",
    "\"\"\""
   ]
  },
  {
   "cell_type": "code",
   "execution_count": 68,
   "metadata": {},
   "outputs": [],
   "source": [
    "class Race:\n",
    "    def __init__(self, time: int, max_distance: int):\n",
    "        self.time = time\n",
    "        self.max_distance = max_distance\n",
    "        \n",
    "    @property\n",
    "    def base_boat_speed(self):\n",
    "        return 1 # mm/ms\n",
    "    \n",
    "    def get_num_candidates(self, halfing: bool = True):\n",
    "        candidates = []\n",
    "        range_times = range(self.time//2 + 1) if halfing else range(self.time)\n",
    "        for i in range_times:\n",
    "            speed = i # mm/ms\n",
    "            remaning = self.time - i # ms\n",
    "            distance = speed * remaning\n",
    "            if distance > self.max_distance:\n",
    "                candidates.append(i)\n",
    "                        \n",
    "        offset = 1 - self.time % 2\n",
    "        return (len(candidates) * 2 - ( offset )) if halfing else len(candidates)\n",
    "    \n",
    "    \n",
    "class RaceCollection:\n",
    "    def __init__(self, races: list[Race]):\n",
    "        self.races = races\n",
    "        \n",
    "    @classmethod\n",
    "    def from_str(cls, value: str):\n",
    "        data = value.strip().split(\"\\n\")\n",
    "        times_str = data[0]\n",
    "        distance_str = data[1]\n",
    "\n",
    "        times = [int(t) for t in re.findall(r\"\\d+\", times_str)]\n",
    "        distances = [int(t) for t in re.findall(r\"\\d+\", distance_str)]\n",
    "        return cls(\n",
    "            races = [Race(time=u, max_distance=v) for u,v in zip(times, distances)]\n",
    "        )\n",
    "        \n",
    "    def solution_part_1(self, halfing: bool = False):\n",
    "        out = 1\n",
    "        for race in self.races:\n",
    "            print(race.get_num_candidates(halfing=halfing))\n",
    "            out *= race.get_num_candidates(halfing=halfing)\n",
    "        return out\n",
    "        "
   ]
  },
  {
   "cell_type": "code",
   "execution_count": 69,
   "metadata": {},
   "outputs": [],
   "source": [
    "races = RaceCollection.from_str(puzzle_str)"
   ]
  },
  {
   "cell_type": "code",
   "execution_count": 73,
   "metadata": {},
   "outputs": [
    {
     "name": "stdout",
     "output_type": "stream",
     "text": [
      "4\n",
      "8\n",
      "9\n"
     ]
    },
    {
     "data": {
      "text/plain": [
       "288"
      ]
     },
     "execution_count": 73,
     "metadata": {},
     "output_type": "execute_result"
    }
   ],
   "source": [
    "races.solution_part_1(halfing=True)"
   ]
  },
  {
   "cell_type": "code",
   "execution_count": 74,
   "metadata": {},
   "outputs": [],
   "source": [
    "puzzle_str = \"\"\"\n",
    "Time:        63     78     94     68\n",
    "Distance:   411   1274   2047   1035\n",
    "\"\"\"\n",
    "\n",
    "races = RaceCollection.from_str(puzzle_str)"
   ]
  },
  {
   "cell_type": "code",
   "execution_count": 75,
   "metadata": {},
   "outputs": [
    {
     "name": "stdout",
     "output_type": "stream",
     "text": [
      "48\n",
      "31\n",
      "25\n",
      "21\n"
     ]
    },
    {
     "data": {
      "text/plain": [
       "781200"
      ]
     },
     "execution_count": 75,
     "metadata": {},
     "output_type": "execute_result"
    }
   ],
   "source": [
    "races.solution_part_1(halfing=True)"
   ]
  },
  {
   "cell_type": "code",
   "execution_count": 78,
   "metadata": {},
   "outputs": [
    {
     "data": {
      "text/plain": [
       "49240091"
      ]
     },
     "execution_count": 78,
     "metadata": {},
     "output_type": "execute_result"
    }
   ],
   "source": [
    "Race(time=63789468, max_distance=411127420471035).get_num_candidates(halfing=True)"
   ]
  },
  {
   "cell_type": "code",
   "execution_count": null,
   "metadata": {},
   "outputs": [],
   "source": []
  }
 ],
 "metadata": {
  "kernelspec": {
   "display_name": ".venv",
   "language": "python",
   "name": "python3"
  },
  "language_info": {
   "codemirror_mode": {
    "name": "ipython",
    "version": 3
   },
   "file_extension": ".py",
   "mimetype": "text/x-python",
   "name": "python",
   "nbconvert_exporter": "python",
   "pygments_lexer": "ipython3",
   "version": "3.12.0"
  }
 },
 "nbformat": 4,
 "nbformat_minor": 2
}
